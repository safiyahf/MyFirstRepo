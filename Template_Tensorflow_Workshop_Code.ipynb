{
  "nbformat": 4,
  "nbformat_minor": 0,
  "metadata": {
    "colab": {
      "provenance": [],
      "include_colab_link": true
    },
    "kernelspec": {
      "name": "python3",
      "display_name": "Python 3"
    },
    "language_info": {
      "name": "python"
    },
    "widgets": {
      "application/vnd.jupyter.widget-state+json": {
        "44f798dbc1a741a4aba9bb9c95bf8c38": {
          "model_module": "@jupyter-widgets/controls",
          "model_name": "HBoxModel",
          "model_module_version": "1.5.0",
          "state": {
            "_dom_classes": [],
            "_model_module": "@jupyter-widgets/controls",
            "_model_module_version": "1.5.0",
            "_model_name": "HBoxModel",
            "_view_count": null,
            "_view_module": "@jupyter-widgets/controls",
            "_view_module_version": "1.5.0",
            "_view_name": "HBoxView",
            "box_style": "",
            "children": [
              "IPY_MODEL_401657a0646843b0980c606593ffc89b",
              "IPY_MODEL_d6a3d4b41c8f47ca900965b0ad7f09bf",
              "IPY_MODEL_77a54cfb6fbd4111a51c62a1008f2867"
            ],
            "layout": "IPY_MODEL_22074de5bf5d41749e3725adacebd2d2"
          }
        },
        "401657a0646843b0980c606593ffc89b": {
          "model_module": "@jupyter-widgets/controls",
          "model_name": "HTMLModel",
          "model_module_version": "1.5.0",
          "state": {
            "_dom_classes": [],
            "_model_module": "@jupyter-widgets/controls",
            "_model_module_version": "1.5.0",
            "_model_name": "HTMLModel",
            "_view_count": null,
            "_view_module": "@jupyter-widgets/controls",
            "_view_module_version": "1.5.0",
            "_view_name": "HTMLView",
            "description": "",
            "description_tooltip": null,
            "layout": "IPY_MODEL_b997cd155ff64ad18cb422c361a255b0",
            "placeholder": "​",
            "style": "IPY_MODEL_361ccece44ce4b508e6416bcce916e1b",
            "value": "Dl Completed...: 100%"
          }
        },
        "d6a3d4b41c8f47ca900965b0ad7f09bf": {
          "model_module": "@jupyter-widgets/controls",
          "model_name": "FloatProgressModel",
          "model_module_version": "1.5.0",
          "state": {
            "_dom_classes": [],
            "_model_module": "@jupyter-widgets/controls",
            "_model_module_version": "1.5.0",
            "_model_name": "FloatProgressModel",
            "_view_count": null,
            "_view_module": "@jupyter-widgets/controls",
            "_view_module_version": "1.5.0",
            "_view_name": "ProgressView",
            "bar_style": "success",
            "description": "",
            "description_tooltip": null,
            "layout": "IPY_MODEL_b7eb77303c1e4c32b760c75e66f69bd0",
            "max": 5,
            "min": 0,
            "orientation": "horizontal",
            "style": "IPY_MODEL_213fba891ea847a7aa99228a7e7d2a31",
            "value": 5
          }
        },
        "77a54cfb6fbd4111a51c62a1008f2867": {
          "model_module": "@jupyter-widgets/controls",
          "model_name": "HTMLModel",
          "model_module_version": "1.5.0",
          "state": {
            "_dom_classes": [],
            "_model_module": "@jupyter-widgets/controls",
            "_model_module_version": "1.5.0",
            "_model_name": "HTMLModel",
            "_view_count": null,
            "_view_module": "@jupyter-widgets/controls",
            "_view_module_version": "1.5.0",
            "_view_name": "HTMLView",
            "description": "",
            "description_tooltip": null,
            "layout": "IPY_MODEL_bef147853ba3422e9893c7baa0c343b3",
            "placeholder": "​",
            "style": "IPY_MODEL_efcb2ff09c3443c28ef0610e36a6aa7f",
            "value": " 5/5 [00:00&lt;00:00, 12.05 file/s]"
          }
        },
        "22074de5bf5d41749e3725adacebd2d2": {
          "model_module": "@jupyter-widgets/base",
          "model_name": "LayoutModel",
          "model_module_version": "1.2.0",
          "state": {
            "_model_module": "@jupyter-widgets/base",
            "_model_module_version": "1.2.0",
            "_model_name": "LayoutModel",
            "_view_count": null,
            "_view_module": "@jupyter-widgets/base",
            "_view_module_version": "1.2.0",
            "_view_name": "LayoutView",
            "align_content": null,
            "align_items": null,
            "align_self": null,
            "border": null,
            "bottom": null,
            "display": null,
            "flex": null,
            "flex_flow": null,
            "grid_area": null,
            "grid_auto_columns": null,
            "grid_auto_flow": null,
            "grid_auto_rows": null,
            "grid_column": null,
            "grid_gap": null,
            "grid_row": null,
            "grid_template_areas": null,
            "grid_template_columns": null,
            "grid_template_rows": null,
            "height": null,
            "justify_content": null,
            "justify_items": null,
            "left": null,
            "margin": null,
            "max_height": null,
            "max_width": null,
            "min_height": null,
            "min_width": null,
            "object_fit": null,
            "object_position": null,
            "order": null,
            "overflow": null,
            "overflow_x": null,
            "overflow_y": null,
            "padding": null,
            "right": null,
            "top": null,
            "visibility": null,
            "width": null
          }
        },
        "b997cd155ff64ad18cb422c361a255b0": {
          "model_module": "@jupyter-widgets/base",
          "model_name": "LayoutModel",
          "model_module_version": "1.2.0",
          "state": {
            "_model_module": "@jupyter-widgets/base",
            "_model_module_version": "1.2.0",
            "_model_name": "LayoutModel",
            "_view_count": null,
            "_view_module": "@jupyter-widgets/base",
            "_view_module_version": "1.2.0",
            "_view_name": "LayoutView",
            "align_content": null,
            "align_items": null,
            "align_self": null,
            "border": null,
            "bottom": null,
            "display": null,
            "flex": null,
            "flex_flow": null,
            "grid_area": null,
            "grid_auto_columns": null,
            "grid_auto_flow": null,
            "grid_auto_rows": null,
            "grid_column": null,
            "grid_gap": null,
            "grid_row": null,
            "grid_template_areas": null,
            "grid_template_columns": null,
            "grid_template_rows": null,
            "height": null,
            "justify_content": null,
            "justify_items": null,
            "left": null,
            "margin": null,
            "max_height": null,
            "max_width": null,
            "min_height": null,
            "min_width": null,
            "object_fit": null,
            "object_position": null,
            "order": null,
            "overflow": null,
            "overflow_x": null,
            "overflow_y": null,
            "padding": null,
            "right": null,
            "top": null,
            "visibility": null,
            "width": null
          }
        },
        "361ccece44ce4b508e6416bcce916e1b": {
          "model_module": "@jupyter-widgets/controls",
          "model_name": "DescriptionStyleModel",
          "model_module_version": "1.5.0",
          "state": {
            "_model_module": "@jupyter-widgets/controls",
            "_model_module_version": "1.5.0",
            "_model_name": "DescriptionStyleModel",
            "_view_count": null,
            "_view_module": "@jupyter-widgets/base",
            "_view_module_version": "1.2.0",
            "_view_name": "StyleView",
            "description_width": ""
          }
        },
        "b7eb77303c1e4c32b760c75e66f69bd0": {
          "model_module": "@jupyter-widgets/base",
          "model_name": "LayoutModel",
          "model_module_version": "1.2.0",
          "state": {
            "_model_module": "@jupyter-widgets/base",
            "_model_module_version": "1.2.0",
            "_model_name": "LayoutModel",
            "_view_count": null,
            "_view_module": "@jupyter-widgets/base",
            "_view_module_version": "1.2.0",
            "_view_name": "LayoutView",
            "align_content": null,
            "align_items": null,
            "align_self": null,
            "border": null,
            "bottom": null,
            "display": null,
            "flex": null,
            "flex_flow": null,
            "grid_area": null,
            "grid_auto_columns": null,
            "grid_auto_flow": null,
            "grid_auto_rows": null,
            "grid_column": null,
            "grid_gap": null,
            "grid_row": null,
            "grid_template_areas": null,
            "grid_template_columns": null,
            "grid_template_rows": null,
            "height": null,
            "justify_content": null,
            "justify_items": null,
            "left": null,
            "margin": null,
            "max_height": null,
            "max_width": null,
            "min_height": null,
            "min_width": null,
            "object_fit": null,
            "object_position": null,
            "order": null,
            "overflow": null,
            "overflow_x": null,
            "overflow_y": null,
            "padding": null,
            "right": null,
            "top": null,
            "visibility": null,
            "width": null
          }
        },
        "213fba891ea847a7aa99228a7e7d2a31": {
          "model_module": "@jupyter-widgets/controls",
          "model_name": "ProgressStyleModel",
          "model_module_version": "1.5.0",
          "state": {
            "_model_module": "@jupyter-widgets/controls",
            "_model_module_version": "1.5.0",
            "_model_name": "ProgressStyleModel",
            "_view_count": null,
            "_view_module": "@jupyter-widgets/base",
            "_view_module_version": "1.2.0",
            "_view_name": "StyleView",
            "bar_color": null,
            "description_width": ""
          }
        },
        "bef147853ba3422e9893c7baa0c343b3": {
          "model_module": "@jupyter-widgets/base",
          "model_name": "LayoutModel",
          "model_module_version": "1.2.0",
          "state": {
            "_model_module": "@jupyter-widgets/base",
            "_model_module_version": "1.2.0",
            "_model_name": "LayoutModel",
            "_view_count": null,
            "_view_module": "@jupyter-widgets/base",
            "_view_module_version": "1.2.0",
            "_view_name": "LayoutView",
            "align_content": null,
            "align_items": null,
            "align_self": null,
            "border": null,
            "bottom": null,
            "display": null,
            "flex": null,
            "flex_flow": null,
            "grid_area": null,
            "grid_auto_columns": null,
            "grid_auto_flow": null,
            "grid_auto_rows": null,
            "grid_column": null,
            "grid_gap": null,
            "grid_row": null,
            "grid_template_areas": null,
            "grid_template_columns": null,
            "grid_template_rows": null,
            "height": null,
            "justify_content": null,
            "justify_items": null,
            "left": null,
            "margin": null,
            "max_height": null,
            "max_width": null,
            "min_height": null,
            "min_width": null,
            "object_fit": null,
            "object_position": null,
            "order": null,
            "overflow": null,
            "overflow_x": null,
            "overflow_y": null,
            "padding": null,
            "right": null,
            "top": null,
            "visibility": null,
            "width": null
          }
        },
        "efcb2ff09c3443c28ef0610e36a6aa7f": {
          "model_module": "@jupyter-widgets/controls",
          "model_name": "DescriptionStyleModel",
          "model_module_version": "1.5.0",
          "state": {
            "_model_module": "@jupyter-widgets/controls",
            "_model_module_version": "1.5.0",
            "_model_name": "DescriptionStyleModel",
            "_view_count": null,
            "_view_module": "@jupyter-widgets/base",
            "_view_module_version": "1.2.0",
            "_view_name": "StyleView",
            "description_width": ""
          }
        }
      }
    }
  },
  "cells": [
    {
      "cell_type": "markdown",
      "metadata": {
        "id": "view-in-github",
        "colab_type": "text"
      },
      "source": [
        "<a href=\"https://colab.research.google.com/github/safiyahf/MyFirstRepo/blob/main/Template_Tensorflow_Workshop_Code.ipynb\" target=\"_parent\"><img src=\"https://colab.research.google.com/assets/colab-badge.svg\" alt=\"Open In Colab\"/></a>"
      ]
    },
    {
      "cell_type": "markdown",
      "source": [
        "First we will need to import tensorflow so that we can use it to train a machine learning model that can classify hand written digits.\n",
        "\n",
        "We will also import the tensorflow datasets library so that we can load our dataset.\n",
        "\n",
        "Finally, we import matplotlib, which we will use to display the images."
      ],
      "metadata": {
        "id": "5q6iPRSpP1sZ"
      }
    },
    {
      "cell_type": "code",
      "execution_count": 2,
      "metadata": {
        "id": "9QkuxIfSPcyD"
      },
      "outputs": [],
      "source": [
        "import tensorflow as tf\n",
        "import tensorflow_datasets as tfds\n",
        "\n",
        "import matplotlib.pyplot as plt"
      ]
    },
    {
      "cell_type": "markdown",
      "source": [
        "Let's load our data.\n",
        "\n",
        "We will use the function `tfds.load()` to get a nicely prepackaged and cleaned dataset. Let's take a look at the parameters we pass to this function.\n",
        "\n",
        "1. `'mnist`' - this downloads the MNIST dataset, which is the dataset we want. There are a lot of other datasets available but each of them require a different approach so we will focus on just mnist for today.\n",
        "2. `split=['train', 'test]` this splits our training data into two parts, a train set and a test set. The trainset has 60,000 examples and the test set has 10,000. This allows us to check our work\n",
        "3. `shuffle_files=True` will make sure we shuffle our data up. We don't want our nueral network to guess what digit it is looking at based on the previous number it looked at. If we didn't shuffle, the nueral network would just learn that if the last number it saw was a 5, for example, the next number must be 6, and so forth.\n",
        "4. `as_supervised=True` just makes the format of the data equivlant to a bunch of tuples of the form: `(image of digit, label of digit)`.\n",
        "5. `with_info` will grab some more info about the dataset for us to look at.\n",
        "\n",
        "\n",
        "\n",
        "Feel free to read up more about the MNIST dataset at this link: https://www.tensorflow.org/datasets/catalog/mnist or read more about it by running the cell below to see `dataset_info`."
      ],
      "metadata": {
        "id": "BD5cv3j5Qyxh"
      }
    },
    {
      "cell_type": "code",
      "source": [
        "(dataset_train, dataset_test), dataset_info = tfds.load(\n",
        "    'mnist',\n",
        "    split=['train', 'test'],\n",
        "    shuffle_files=True,\n",
        "    as_supervised=True,\n",
        "    with_info=True,\n",
        ")"
      ],
      "metadata": {
        "id": "cU7Ew7nvQCvx",
        "colab": {
          "base_uri": "https://localhost:8080/",
          "height": 84,
          "referenced_widgets": [
            "44f798dbc1a741a4aba9bb9c95bf8c38",
            "401657a0646843b0980c606593ffc89b",
            "d6a3d4b41c8f47ca900965b0ad7f09bf",
            "77a54cfb6fbd4111a51c62a1008f2867",
            "22074de5bf5d41749e3725adacebd2d2",
            "b997cd155ff64ad18cb422c361a255b0",
            "361ccece44ce4b508e6416bcce916e1b",
            "b7eb77303c1e4c32b760c75e66f69bd0",
            "213fba891ea847a7aa99228a7e7d2a31",
            "bef147853ba3422e9893c7baa0c343b3",
            "efcb2ff09c3443c28ef0610e36a6aa7f"
          ]
        },
        "outputId": "16cdb899-cfdc-4d66-a190-1a88b6a4f811"
      },
      "execution_count": 3,
      "outputs": [
        {
          "output_type": "stream",
          "name": "stdout",
          "text": [
            "Downloading and preparing dataset 11.06 MiB (download: 11.06 MiB, generated: 21.00 MiB, total: 32.06 MiB) to /root/tensorflow_datasets/mnist/3.0.1...\n"
          ]
        },
        {
          "output_type": "display_data",
          "data": {
            "text/plain": [
              "Dl Completed...:   0%|          | 0/5 [00:00<?, ? file/s]"
            ],
            "application/vnd.jupyter.widget-view+json": {
              "version_major": 2,
              "version_minor": 0,
              "model_id": "44f798dbc1a741a4aba9bb9c95bf8c38"
            }
          },
          "metadata": {}
        },
        {
          "output_type": "stream",
          "name": "stdout",
          "text": [
            "Dataset mnist downloaded and prepared to /root/tensorflow_datasets/mnist/3.0.1. Subsequent calls will reuse this data.\n"
          ]
        }
      ]
    },
    {
      "cell_type": "code",
      "source": [
        "dataset_info"
      ],
      "metadata": {
        "colab": {
          "base_uri": "https://localhost:8080/"
        },
        "id": "PoVnA6WDYAgQ",
        "outputId": "c80f83c3-02d2-457e-fafd-d74536b3e248"
      },
      "execution_count": 5,
      "outputs": [
        {
          "output_type": "execute_result",
          "data": {
            "text/plain": [
              "tfds.core.DatasetInfo(\n",
              "    name='mnist',\n",
              "    full_name='mnist/3.0.1',\n",
              "    description=\"\"\"\n",
              "    The MNIST database of handwritten digits.\n",
              "    \"\"\",\n",
              "    homepage='http://yann.lecun.com/exdb/mnist/',\n",
              "    data_dir='/root/tensorflow_datasets/mnist/incomplete.LT72PA_3.0.1/',\n",
              "    file_format=tfrecord,\n",
              "    download_size=11.06 MiB,\n",
              "    dataset_size=21.00 MiB,\n",
              "    features=FeaturesDict({\n",
              "        'image': Image(shape=(28, 28, 1), dtype=uint8),\n",
              "        'label': ClassLabel(shape=(), dtype=int64, num_classes=10),\n",
              "    }),\n",
              "    supervised_keys=('image', 'label'),\n",
              "    disable_shuffling=False,\n",
              "    splits={\n",
              "        'test': <SplitInfo num_examples=10000, num_shards=1>,\n",
              "        'train': <SplitInfo num_examples=60000, num_shards=1>,\n",
              "    },\n",
              "    citation=\"\"\"@article{lecun2010mnist,\n",
              "      title={MNIST handwritten digit database},\n",
              "      author={LeCun, Yann and Cortes, Corinna and Burges, CJ},\n",
              "      journal={ATT Labs [Online]. Available: http://yann.lecun.com/exdb/mnist},\n",
              "      volume={2},\n",
              "      year={2010}\n",
              "    }\"\"\",\n",
              ")"
            ]
          },
          "metadata": {},
          "execution_count": 5
        }
      ]
    },
    {
      "cell_type": "markdown",
      "source": [
        "Next we are going to prepare our dataset so that we can use it to train our model.\n",
        "\n",
        "Let's first take a look at the first example in our dataset.\n",
        "The first element is a tuple, with two elements as you can see in the code cell below."
      ],
      "metadata": {
        "id": "X7YEXYfEUlB9"
      }
    },
    {
      "cell_type": "code",
      "source": [
        "for x in dataset_train:\n",
        "    img, label = x\n",
        "    plt.imshow(img[:,:,0], cmap='gray')\n",
        "\n",
        "    print(\"Each element in our dataset is of type:\", type(x))\n",
        "    print(\"The label of this element is:\", label)\n",
        "    print(\"The shape of this image is:\", img.shape)\n",
        "\n",
        "    break"
      ],
      "metadata": {
        "colab": {
          "base_uri": "https://localhost:8080/",
          "height": 482
        },
        "id": "y3Z7kjQjU_hU",
        "outputId": "b85abff1-c494-4f3b-d28b-6a93d9b02c9c"
      },
      "execution_count": 7,
      "outputs": [
        {
          "output_type": "stream",
          "name": "stdout",
          "text": [
            "Each element in our dataset is of type: <class 'tuple'>\n",
            "The label of this element is: tf.Tensor(4, shape=(), dtype=int64)\n",
            "The shape of this image is: (28, 28, 1)\n"
          ]
        },
        {
          "output_type": "display_data",
          "data": {
            "text/plain": [
              "<Figure size 640x480 with 1 Axes>"
            ],
            "image/png": "[encoded data removed]"
          },
          "metadata": {}
        }
      ]
    },
    {
      "cell_type": "markdown",
      "source": [
        "First we need to convert the data type of the images from unsigned 8-bit integers to 32-bit float. This is because the nueral network we will use expects 32-bit floats.\n",
        "\n",
        "Next we will devide the images by 255 because that will keep all the values in the image between 0 and 1 rather than between 0 and 255.\n",
        "Having smaller values allows training to go faster.\n",
        "\n",
        "We also batch our data. This means we split our 60,000 training examples into batches or groups of 128 examples and train on those. This allows our model to view 128 different images and their labels at once and learn from them all at the same time. This means it will be almost 128x as fast to train!"
      ],
      "metadata": {
        "id": "0I0x8OACXR3e"
      }
    },
    {
      "cell_type": "code",
      "source": [
        "def normalize_img(image, label):\n",
        "    \"\"\"Normalizes images from unsigned 8-bit integers to 32-bit float.\n",
        "    Also scales all values to be between 0 and 1 rather than 0 and 255.\"\"\"\n",
        "    # rescale the image to be between 0 and 1 by dividing it by 255\n",
        "    ### YOUR CODE HERE ###\n",
        "\n",
        "    return image, label\n",
        "\n",
        "# apply our normalization function to our dataset\n",
        "dataset_train = dataset_train.map(normalize_img)\n",
        "\n",
        "# next we shuffle up our training data again\n",
        "dataset_train = dataset_train.shuffle(dataset_info.splits['train'].num_examples)\n",
        "\n",
        "# finally we batch our data to allow us to train faster\n",
        "dataset_train = dataset_train.batch(128)\n",
        "\n",
        "\n",
        "# do the same for our testing data. Make sure to normalize it and to batch it only\n",
        "# no need to shuffle.\n",
        "### YOUR CODE HERE ###\n",
        "### YOUR CODE HERE ###"
      ],
      "metadata": {
        "id": "tEb2CDLVSjoy"
      },
      "execution_count": null,
      "outputs": []
    },
    {
      "cell_type": "markdown",
      "source": [
        "Time to make our model, the fun part!\n",
        "\n",
        "Our model is sequential. This means that data only flows one way. In other words, the model guesses what the image but its current guess doesn't affect its next guess.\n",
        "\n",
        "Next, we flatten the input to the model. This means we take our image that is 28 by 28 pixels and convert it to one long list that is 784 (28 x 28) long.\n",
        "\n",
        "Then we take that 784 long list and use that as input to our first dense, or fully connected layer. This layer has 128 nuerons, hence the 128. The relu activation is a function. Feel free to read more about it [here](https://en.wikipedia.org/wiki/Rectifier_(neural_networks)).\n",
        "\n",
        "Finally, we have one more dense layer which has 10 nuerons. This is our output layer. Each of these neurons in the output layer represent how likely a digit (numbered 0 through 9) is to be the number written in the input image. In other words, if the 0th nueron is the largest number, then 0 is the digit the model guesses is in the image."
      ],
      "metadata": {
        "id": "TO3I6w_SZfgU"
      }
    },
    {
      "cell_type": "code",
      "source": [
        "# You can create your own model by changing the numbers of neurons, adding more layers, and using different acitvation functions.\n",
        "# play around with it and see what accuracy you can acheieve in the next steps!\n",
        "\n",
        "model = tf.keras.models.Sequential([\n",
        "  tf.keras.layers.Flatten(input_shape=(28, 28)),\n",
        "  ### YOUR CODE HERE ###\n",
        "])"
      ],
      "metadata": {
        "id": "QYVABpEWX8nx",
        "colab": {
          "base_uri": "https://localhost:8080/"
        },
        "outputId": "3681df3a-d083-4af1-8760-7e42d385241d"
      },
      "execution_count": null,
      "outputs": [
        {
          "output_type": "stream",
          "name": "stderr",
          "text": [
            "/usr/local/lib/python3.10/dist-packages/keras/src/layers/reshaping/flatten.py:37: UserWarning: Do not pass an `input_shape`/`input_dim` argument to a layer. When using Sequential models, prefer using an `Input(shape)` object as the first layer in the model instead.\n",
            "  super().__init__(**kwargs)\n"
          ]
        }
      ]
    },
    {
      "cell_type": "markdown",
      "source": [
        "Now we will compile our model, which allows us to actually train our model.\n",
        "\n",
        "The optimizer is what looks at how accurate our model is and modifies the weights and biases to make our model more accurate. The loss parameter is a function that determines how inaccurate our model is on each prediction. The optimizer uses this value from the loss function to make tweaks."
      ],
      "metadata": {
        "id": "n41Mm7-AoHlR"
      }
    },
    {
      "cell_type": "code",
      "source": [
        "model.compile(\n",
        "    optimizer=tf.keras.optimizers.Adam(0.001),\n",
        "    loss=tf.keras.losses.SparseCategoricalCrossentropy(from_logits=True),\n",
        "    metrics=[\"accuracy\"]\n",
        ")"
      ],
      "metadata": {
        "id": "DSu54o3UZxxG"
      },
      "execution_count": null,
      "outputs": []
    },
    {
      "cell_type": "markdown",
      "source": [
        "Let's check to see how accurate it is before we even start training. We can expect it to be somwhere around 10% accurate because there are 10 possible digits and the intial values in the model are assigned randomly.\n",
        "\n",
        "If you run the last few cells a few different times you will notice your accuracy is different everytime depending on what random values the model starts with."
      ],
      "metadata": {
        "id": "w21NQLCdsYZd"
      }
    },
    {
      "cell_type": "code",
      "source": [
        "results = model.evaluate(dataset_train)\n",
        "print(\"Our training loss and accuracy:\", results)\n",
        "\n",
        "results = model.evaluate(dataset_test)\n",
        "print(\"Our testing loss and accuracy:\", results)"
      ],
      "metadata": {
        "colab": {
          "base_uri": "https://localhost:8080/"
        },
        "id": "-PJkX81nsOem",
        "outputId": "1c79f7a2-42da-4116-c3c8-df81b2dd36cc"
      },
      "execution_count": null,
      "outputs": [
        {
          "output_type": "stream",
          "name": "stdout",
          "text": [
            "\u001b[1m469/469\u001b[0m \u001b[32m━━━━━━━━━━━━━━━━━━━━\u001b[0m\u001b[37m\u001b[0m \u001b[1m8s\u001b[0m 2ms/step - accuracy: 0.1091 - loss: 2.4064\n",
            "Our training loss and accuracy: [2.4033756256103516, 0.10813333094120026]\n",
            "\u001b[1m79/79\u001b[0m \u001b[32m━━━━━━━━━━━━━━━━━━━━\u001b[0m\u001b[37m\u001b[0m \u001b[1m1s\u001b[0m 13ms/step - accuracy: 0.1132 - loss: 2.4018\n",
            "Our testing loss and accuracy: [2.4079248905181885, 0.11100000143051147]\n"
          ]
        }
      ]
    },
    {
      "cell_type": "markdown",
      "source": [
        "Finally, we can train our model. We will train it on our training dataset and we will check to see how accurate we are after each epoch using our testing dataset. It is important to remember that we only use the values in the training dataset to make improvements to our model and we will only use the testing dataset to see our accuracy.\n",
        "\n",
        "Each epoch is one complete use of the entire dataset to train. We will train on the entire dataset 8 times, after which we have acheieved a very high accuracy."
      ],
      "metadata": {
        "id": "yL6odLswo03v"
      }
    },
    {
      "cell_type": "code",
      "source": [
        "history = model.fit(\n",
        "    # which dataset should we use to train?\n",
        "    ### YOUR CODE HERE ###\n",
        "    epochs=8,\n",
        "    validation_data=dataset_test,\n",
        ")"
      ],
      "metadata": {
        "colab": {
          "base_uri": "https://localhost:8080/"
        },
        "id": "VYrK4XftZx5R",
        "outputId": "88495db6-ea02-4a63-b63c-5a534fa4126b"
      },
      "execution_count": null,
      "outputs": [
        {
          "output_type": "stream",
          "name": "stdout",
          "text": [
            "Epoch 1/8\n",
            "\u001b[1m469/469\u001b[0m \u001b[32m━━━━━━━━━━━━━━━━━━━━\u001b[0m\u001b[37m\u001b[0m \u001b[1m6s\u001b[0m 6ms/step - accuracy: 0.8331 - loss: 0.6092 - val_accuracy: 0.9463 - val_loss: 0.1885\n",
            "Epoch 2/8\n",
            "\u001b[1m469/469\u001b[0m \u001b[32m━━━━━━━━━━━━━━━━━━━━\u001b[0m\u001b[37m\u001b[0m \u001b[1m6s\u001b[0m 6ms/step - accuracy: 0.9494 - loss: 0.1766 - val_accuracy: 0.9606 - val_loss: 0.1344\n",
            "Epoch 3/8\n",
            "\u001b[1m469/469\u001b[0m \u001b[32m━━━━━━━━━━━━━━━━━━━━\u001b[0m\u001b[37m\u001b[0m \u001b[1m5s\u001b[0m 5ms/step - accuracy: 0.9648 - loss: 0.1232 - val_accuracy: 0.9656 - val_loss: 0.1133\n",
            "Epoch 4/8\n",
            "\u001b[1m469/469\u001b[0m \u001b[32m━━━━━━━━━━━━━━━━━━━━\u001b[0m\u001b[37m\u001b[0m \u001b[1m6s\u001b[0m 9ms/step - accuracy: 0.9736 - loss: 0.0931 - val_accuracy: 0.9685 - val_loss: 0.1008\n",
            "Epoch 5/8\n",
            "\u001b[1m469/469\u001b[0m \u001b[32m━━━━━━━━━━━━━━━━━━━━\u001b[0m\u001b[37m\u001b[0m \u001b[1m9s\u001b[0m 6ms/step - accuracy: 0.9786 - loss: 0.0744 - val_accuracy: 0.9731 - val_loss: 0.0862\n",
            "Epoch 6/8\n",
            "\u001b[1m469/469\u001b[0m \u001b[32m━━━━━━━━━━━━━━━━━━━━\u001b[0m\u001b[37m\u001b[0m \u001b[1m6s\u001b[0m 6ms/step - accuracy: 0.9820 - loss: 0.0610 - val_accuracy: 0.9746 - val_loss: 0.0854\n",
            "Epoch 7/8\n",
            "\u001b[1m469/469\u001b[0m \u001b[32m━━━━━━━━━━━━━━━━━━━━\u001b[0m\u001b[37m\u001b[0m \u001b[1m4s\u001b[0m 5ms/step - accuracy: 0.9849 - loss: 0.0531 - val_accuracy: 0.9749 - val_loss: 0.0815\n",
            "Epoch 8/8\n",
            "\u001b[1m469/469\u001b[0m \u001b[32m━━━━━━━━━━━━━━━━━━━━\u001b[0m\u001b[37m\u001b[0m \u001b[1m6s\u001b[0m 7ms/step - accuracy: 0.9890 - loss: 0.0418 - val_accuracy: 0.9755 - val_loss: 0.0792\n"
          ]
        }
      ]
    },
    {
      "cell_type": "markdown",
      "source": [
        "Can you guess why the accuracy from our training dataset is high than our testing dataset accuracy?"
      ],
      "metadata": {
        "id": "oQpoJG9appLv"
      }
    },
    {
      "cell_type": "code",
      "source": [
        "results = model.evaluate(dataset_train)\n",
        "print(\"Our training loss and accuracy:\", results)\n",
        "\n",
        "results = model.evaluate(dataset_test)\n",
        "print(\"Our testing loss and accuracy:\", results)"
      ],
      "metadata": {
        "colab": {
          "base_uri": "https://localhost:8080/"
        },
        "id": "vmdm1cmCpsN0",
        "outputId": "7e1d68f2-7a95-4602-8118-d340dc349b46"
      },
      "execution_count": null,
      "outputs": [
        {
          "output_type": "stream",
          "name": "stdout",
          "text": [
            "\u001b[1m469/469\u001b[0m \u001b[32m━━━━━━━━━━━━━━━━━━━━\u001b[0m\u001b[37m\u001b[0m \u001b[1m3s\u001b[0m 2ms/step - accuracy: 0.9903 - loss: 0.0365\n",
            "Our training loss and accuracy: [0.0361810177564621, 0.9905499815940857]\n",
            "\u001b[1m79/79\u001b[0m \u001b[32m━━━━━━━━━━━━━━━━━━━━\u001b[0m\u001b[37m\u001b[0m \u001b[1m1s\u001b[0m 6ms/step - accuracy: 0.9762 - loss: 0.0763\n",
            "Our testing loss and accuracy: [0.07923349738121033, 0.9754999876022339]\n"
          ]
        }
      ]
    },
    {
      "cell_type": "markdown",
      "source": [
        "Now let's graph the history of the accuracy over each of the epochs.\n",
        "\n",
        "As you can see, our accuracy improves overtime, as does the validation accuracy.\n",
        "Even though our accuracy was only arround 10% before we started training, by the end of the 0th epoch, we already got to 90% accuracy."
      ],
      "metadata": {
        "id": "XcQc68jFxOMQ"
      }
    },
    {
      "cell_type": "code",
      "source": [
        "plt.plot(history.history['accuracy'])\n",
        "plt.plot(history.history['val_accuracy'])\n",
        "plt.title('model accuracy')\n",
        "plt.ylabel('accuracy')\n",
        "plt.xlabel('epoch')\n",
        "plt.legend(['train', 'val'], loc='best')\n",
        "plt.show()"
      ],
      "metadata": {
        "colab": {
          "base_uri": "https://localhost:8080/",
          "height": 492
        },
        "id": "hr4EAekMqiiL",
        "outputId": "349b5441-5070-4d0d-cc29-5ae2e9448b1e"
      },
      "execution_count": null,
      "outputs": [
        {
          "output_type": "display_data",
          "data": {
            "text/plain": [
              "<Figure size 640x480 with 1 Axes>"
            ],
            "image/png": "[encoded data removed]"
          },
          "metadata": {}
        }
      ]
    },
    {
      "cell_type": "markdown",
      "source": [
        "Now let's use our model to make predictions on our test set and display them.\n",
        "\n",
        "\n",
        "To do so, we first unbatch our test dataset so we only grab a random sample of 1 image and label at a time instead of 128 of them.\n",
        "\n",
        "Next we use the model to make a prediction on the image. We can print out that prediction but it isn't very useful to us humans yet. We need to first take the arg-max, or the index position of the maximum value of the prediction."
      ],
      "metadata": {
        "id": "fWwCquzvsycN"
      }
    },
    {
      "cell_type": "code",
      "source": [
        "dataset_test = dataset_test.unbatch()\n",
        "dataset_test = dataset_test.shuffle(buffer_size=dataset_info.splits['test'].num_examples)"
      ],
      "metadata": {
        "id": "gp5ta8UJaUiJ"
      },
      "execution_count": null,
      "outputs": []
    },
    {
      "cell_type": "markdown",
      "source": [
        "Feel free to run this as many times as you want to see different images and the model's predictions.\n",
        "Are there times when the model does better than you, or when you do better than it?\n"
      ],
      "metadata": {
        "id": "_EwIqSd4waf7"
      }
    },
    {
      "cell_type": "code",
      "source": [
        "def random_prediction():\n",
        "    img, label = list(dataset_test.take(1))[0]\n",
        "    img = tf.reshape(img, (-1, 28, 28, 1))\n",
        "    print(img.shape, label.shape)\n",
        "\n",
        "    prediction = model.predict(img)\n",
        "    print(\"This is the prediction without it being processed first:\\n\", prediction)\n",
        "\n",
        "    processed_prediction = tf.math.argmax(prediction[0])\n",
        "\n",
        "    print(\"\\nThe model's prediction for the image:\", int(processed_prediction))\n",
        "    print(\"The actual label:\", int(label))\n",
        "    plt.imshow(img[0,:,:,0], cmap=\"gray\")\n",
        "\n",
        "\n",
        "random_prediction()"
      ],
      "metadata": {
        "colab": {
          "base_uri": "https://localhost:8080/",
          "height": 589
        },
        "id": "poIfa55JtOjH",
        "outputId": "0d5af3b1-461e-4df9-bcb8-1ec67231f8f8"
      },
      "execution_count": null,
      "outputs": [
        {
          "output_type": "stream",
          "name": "stdout",
          "text": [
            "(1, 28, 28, 1) ()\n",
            "\u001b[1m1/1\u001b[0m \u001b[32m━━━━━━━━━━━━━━━━━━━━\u001b[0m\u001b[37m\u001b[0m \u001b[1m0s\u001b[0m 83ms/step\n",
            "This is the prediction without it being processed first:\n",
            " [[ -8.845434   -7.381609   -1.8523414   6.817509  -19.806122   10.881494\n",
            "   -9.094839  -11.127004   -1.1245542  -2.8076463]]\n",
            "\n",
            "The model's prediction for the image: 5\n",
            "The actual label: 5\n"
          ]
        },
        {
          "output_type": "display_data",
          "data": {
            "text/plain": [
              "<Figure size 640x480 with 1 Axes>"
            ],
            "image/png": "[encoded data removed]"
          },
          "metadata": {}
        }
      ]
    },
    {
      "cell_type": "code",
      "source": [],
      "metadata": {
        "id": "zlE32dbbvRIj"
      },
      "execution_count": null,
      "outputs": []
    }
  ]
}